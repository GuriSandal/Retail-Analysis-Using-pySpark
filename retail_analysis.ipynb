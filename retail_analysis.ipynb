{
 "cells": [
  {
   "cell_type": "code",
   "execution_count": 2,
   "metadata": {},
   "outputs": [],
   "source": [
    "rdd =sc.textFile(\"file:////home/guri/Desktop/Retail-Analysis-Using-pySpark/Retail_Sample_Data_Set.txt\")"
   ]
  },
  {
   "cell_type": "code",
   "execution_count": 3,
   "metadata": {},
   "outputs": [],
   "source": [
    "nonempty_lines = rdd.filter(lambda x: len(x) > 0)"
   ]
  },
  {
   "cell_type": "code",
   "execution_count": 4,
   "metadata": {},
   "outputs": [],
   "source": [
    "words = nonempty_lines.map(lambda x: x.split('\\t'))"
   ]
  },
  {
   "cell_type": "code",
   "execution_count": 5,
   "metadata": {},
   "outputs": [
    {
     "data": {
      "text/plain": [
       "[(\"Men's Clothing\", '214.05'),\n",
       " (\"Women's Clothing\", '153.57'),\n",
       " ('Music', '66.08'),\n",
       " ('Pet Supplies', '493.51'),\n",
       " (\"Children's Clothing\", '235.63')]"
      ]
     },
     "execution_count": 5,
     "metadata": {},
     "output_type": "execute_result"
    }
   ],
   "source": [
    "def seprate(words):\n",
    "    if len(words)==6:\n",
    "        return(words[3],words[4])\n",
    "mapper = words.map(seprate)\n",
    "mapper.take(5)"
   ]
  },
  {
   "cell_type": "code",
   "execution_count": 6,
   "metadata": {},
   "outputs": [
    {
     "data": {
      "text/plain": [
       "[('Baby', 2034.23),\n",
       " ('Books', 3492.7999999999997),\n",
       " ('CDs', 2644.51),\n",
       " ('Cameras', 2591.27),\n",
       " (\"Children's Clothing\", 2778.21),\n",
       " ('Computers', 2102.66),\n",
       " ('Consumer Electronics', 2963.59),\n",
       " ('Crafts', 3258.0899999999997),\n",
       " ('DVDs', 2831.0),\n",
       " ('Garden', 1882.25)]"
      ]
     },
     "execution_count": 6,
     "metadata": {},
     "output_type": "execute_result"
    }
   ],
   "source": [
    "reduce=mapper.reduceByKey(lambda x,y:float(x)+float(y)).sortByKey(True)\n",
    "reduce.take(10)"
   ]
  },
  {
   "cell_type": "code",
   "execution_count": 7,
   "metadata": {},
   "outputs": [],
   "source": [
    "reduce.saveAsTextFile(\"file:////home/guri/Desktop/Retail-Analysis-Using-pySpark/Answer_1\")"
   ]
  },
  {
   "cell_type": "markdown",
   "metadata": {},
   "source": []
  },
  {
   "cell_type": "code",
   "execution_count": 8,
   "metadata": {},
   "outputs": [
    {
     "data": {
      "text/plain": [
       "[('San Jose', '214.05'),\n",
       " ('Fort Worth', '153.57'),\n",
       " ('San Diego', '66.08'),\n",
       " ('Pittsburgh', '493.51'),\n",
       " ('Omaha', '235.63')]"
      ]
     },
     "execution_count": 8,
     "metadata": {},
     "output_type": "execute_result"
    }
   ],
   "source": [
    "def seprate2(words):\n",
    "    if len(words)==6:\n",
    "        return(words[2],words[4])\n",
    "mapper2 = words.map(seprate2)\n",
    "mapper2.take(5)"
   ]
  },
  {
   "cell_type": "code",
   "execution_count": 9,
   "metadata": {},
   "outputs": [
    {
     "data": {
      "text/plain": [
       "[('Albuquerque', 1074.88),\n",
       " ('Anaheim', 114.41),\n",
       " ('Anchorage', 1086.22),\n",
       " ('Arlington', '400.08'),\n",
       " ('Atlanta', '254.62'),\n",
       " ('Aurora', '117.81'),\n",
       " ('Austin', 1787.88),\n",
       " ('Bakersfield', '217.79'),\n",
       " ('Baltimore', '7.98'),\n",
       " ('Boise', 481.09000000000003)]"
      ]
     },
     "execution_count": 9,
     "metadata": {},
     "output_type": "execute_result"
    }
   ],
   "source": [
    "reduce2=mapper2.reduceByKey(lambda x,y:float(x)+float(y)).sortByKey(True) \n",
    "reduce2.take(10)"
   ]
  },
  {
   "cell_type": "code",
   "execution_count": 10,
   "metadata": {},
   "outputs": [],
   "source": [
    "reduce2.saveAsTextFile(\"file:////home/guri/Desktop/Retail-Analysis-Using-pySpark/Answer_2\")"
   ]
  }
 ],
 "metadata": {
  "kernelspec": {
   "display_name": "Python 3",
   "language": "python",
   "name": "python3"
  },
  "language_info": {
   "codemirror_mode": {
    "name": "ipython",
    "version": 3
   },
   "file_extension": ".py",
   "mimetype": "text/x-python",
   "name": "python",
   "nbconvert_exporter": "python",
   "pygments_lexer": "ipython3",
   "version": "3.5.2"
  }
 },
 "nbformat": 4,
 "nbformat_minor": 2
}
